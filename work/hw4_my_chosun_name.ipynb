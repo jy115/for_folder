{
 "cells": [
  {
   "cell_type": "code",
   "execution_count": null,
   "id": "86c1d3af",
   "metadata": {},
   "outputs": [],
   "source": [
    "def get_my_chosun_name(family_name, month, day):\n",
    "    \n",
    "    first_name_list = ['쌍', '쇠', '복', '돌', '팽', '육', '쌍', '개', '칠', '갑', '삼', '방']\n",
    "   \n",
    "    second_name_list = [\n",
    "        '봉', '구', '욕', '포', '똥', '삼', '식', '석', '놈', '님', '년', '돌', '단', '득', '방',\n",
    "        '질', '장', '걸', '래', '룡', '동', '순', '자', '박', '창', '언', '것', '포', '만', '단', '국'\n",
    "    ]"
   ]
  },
  {
   "cell_type": "code",
   "execution_count": null,
   "id": "26b6fa65",
   "metadata": {},
   "outputs": [],
   "source": [
    "first_name = first_name_list[month - 1]\n",
    "    second_name = second_name_list[day - 1]\n",
    "    \n",
    "    chosun_name = family_name + first_name + second_name\n",
    "    \n",
    "    return chosun_name"
   ]
  },
  {
   "cell_type": "code",
   "execution_count": null,
   "id": "fdf7c09d",
   "metadata": {},
   "outputs": [],
   "source": [
    "my_chosun_name = get_my_chosun_name('안', 9, 18)\n",
    "print(f'당신의 조선시대 이름은 {my_chosun_name} 입니다.')"
   ]
  }
 ],
 "metadata": {
  "kernelspec": {
   "display_name": "Python 3 (ipykernel)",
   "language": "python",
   "name": "python3"
  },
  "language_info": {
   "codemirror_mode": {
    "name": "ipython",
    "version": 3
   },
   "file_extension": ".py",
   "mimetype": "text/x-python",
   "name": "python",
   "nbconvert_exporter": "python",
   "pygments_lexer": "ipython3",
   "version": "3.10.9"
  }
 },
 "nbformat": 4,
 "nbformat_minor": 5
}
