{
 "cells": [
  {
   "cell_type": "code",
   "execution_count": null,
   "id": "057c6936",
   "metadata": {},
   "outputs": [],
   "source": [
    "import pandas as pd\n",
    "import numpy as np\n",
    "from matplotlib import pyplot as plt\n",
    "import seaborn"
   ]
  },
  {
   "cell_type": "code",
   "execution_count": null,
   "id": "09174fac",
   "metadata": {},
   "outputs": [],
   "source": [
    "data = pd.read_csv('data/president_heights.csv')"
   ]
  },
  {
   "cell_type": "code",
   "execution_count": null,
   "id": "86745a10",
   "metadata": {},
   "outputs": [],
   "source": [
    "print(data.head())"
   ]
  },
  {
   "cell_type": "code",
   "execution_count": null,
   "id": "ffedadd4",
   "metadata": {},
   "outputs": [],
   "source": [
    "heights = np.array(data['height(cm)'])\n",
    "print(heights)"
   ]
  },
  {
   "cell_type": "code",
   "execution_count": null,
   "id": "08de9035",
   "metadata": {},
   "outputs": [],
   "source": [
    "mean_height = np.mean(heights)\n",
    "std_height = np.std(heights)\n",
    "min_height = np.min(heights)\n",
    "max_height = np.max(heights)\n",
    "percentile_25 = np.percentile(heights, 25)\n",
    "median_height = np.median(heights)\n",
    "percentile_75 = np.percentile(heights, 75)\n",
    "\n",
    "print(\"Mean height =\", mean_height)\n",
    "print(\"Standard deviation =\", std_height)\n",
    "print(\"Minimum height =\", min_height)\n",
    "print(\"Maximum height =\", max_height)\n",
    "print(\"25th percentile =\", percentile_25)\n",
    "print(\"Median =\", median_height)\n",
    "print(\"75th percentile =\", percentile_75)"
   ]
  },
  {
   "cell_type": "code",
   "execution_count": null,
   "id": "24e3d53b",
   "metadata": {},
   "outputs": [],
   "source": [
    "max_idx = np.argmax(heights)\n",
    "min_idx = np.argmin(heights)\n",
    "\n",
    "max_name = data.iloc[max_idx]['name']\n",
    "min_name = data.iloc[min_idx]['name']\n",
    "\n",
    "print(\"The tallest president is\", max_name)\n",
    "print(\"The smallest president is\", min_name)\n"
   ]
  },
  {
   "cell_type": "code",
   "execution_count": null,
   "id": "fbcd1e40",
   "metadata": {},
   "outputs": [],
   "source": [
    "seaborn.set()\n",
    "\n",
    "plt.hist(heights, bins=10, edgecolor='black')\n",
    "plt.title('Height Distribution of US Presidents')\n",
    "plt.xlabel('Height (cm)')\n",
    "plt.ylabel('Number of Presidents')\n",
    "plt.show()"
   ]
  }
 ],
 "metadata": {
  "kernelspec": {
   "display_name": "Python 3 (ipykernel)",
   "language": "python",
   "name": "python3"
  },
  "language_info": {
   "codemirror_mode": {
    "name": "ipython",
    "version": 3
   },
   "file_extension": ".py",
   "mimetype": "text/x-python",
   "name": "python",
   "nbconvert_exporter": "python",
   "pygments_lexer": "ipython3",
   "version": "3.10.9"
  }
 },
 "nbformat": 4,
 "nbformat_minor": 5
}
