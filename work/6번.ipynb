{
 "cells": [
  {
   "cell_type": "code",
   "execution_count": null,
   "id": "f4f37ae3",
   "metadata": {},
   "outputs": [],
   "source": [
    "import numpy as np\n",
    "import matplotlib.pyplot as plt\n",
    "from mpl_toolkits.axes_grid1 import make_axes_locatable"
   ]
  },
  {
   "cell_type": "code",
   "execution_count": null,
   "id": "0bb9f26d",
   "metadata": {},
   "outputs": [],
   "source": [
    "%matplotlib qt5\n",
    "%config InlineBackend.figure_format = 'svg'\n",
    "\n",
    "plt.rcParams['figure.figsize'] = [12, 5]\n",
    "plt.rcParams['font.size'] = 13\n",
    "plt.ion()"
   ]
  },
  {
   "cell_type": "code",
   "execution_count": null,
   "id": "ea1541d4",
   "metadata": {},
   "outputs": [],
   "source": [
    "def f(z):\n",
    "    return np.square(z) - 1"
   ]
  },
  {
   "cell_type": "code",
   "execution_count": null,
   "id": "d8d65ba1",
   "metadata": {},
   "outputs": [],
   "source": [
    "z = [4, 1 - 0.2j, 1.6]\n",
    "result = f(z)\n",
    "print(result)"
   ]
  },
  {
   "cell_type": "code",
   "execution_count": null,
   "id": "4eaeaf40",
   "metadata": {},
   "outputs": [],
   "source": [
    "x, y = np.meshgrid(np.linspace(-10, 10, 20), np.linspace(-10, 10, 20))\n",
    "mesh = x + 1j * y"
   ]
  },
  {
   "cell_type": "code",
   "execution_count": null,
   "id": "6c090533",
   "metadata": {},
   "outputs": [],
   "source": [
    "output = np.abs(f(mesh))"
   ]
  },
  {
   "cell_type": "code",
   "execution_count": null,
   "id": "1f18735f",
   "metadata": {},
   "outputs": [],
   "source": [
    "fig = plt.figure()\n",
    "ax = plt.axes(projection='3d')\n",
    "ax.scatter(x, y, output, alpha=0.2)\n",
    "ax.set_xlabel('Real axis')\n",
    "ax.set_ylabel('Imaginary axis')\n",
    "ax.set_zlabel('Absolute value')\n",
    "ax.set_title('One Iteration: $f(z) = z^2 - 1$')"
   ]
  },
  {
   "cell_type": "code",
   "execution_count": null,
   "id": "f922137d",
   "metadata": {},
   "outputs": [],
   "source": [
    "output = np.abs(f(f(mesh))\n",
    "\n",
    "ax = plt.axes(projection='3d')\n",
    "\n",
    "ax.scatter(x, y, output, alpha=0.2)\n",
    "\n",
    "ax.set_xlabel('Real axis')\n",
    "ax set_ylabel('Imaginary axis')\n",
    "ax.set_zlabel('Absolute value')\n",
    "ax.set_title('Two Iterations: $ f(z) = z^2 - 1$')"
   ]
  },
  {
   "cell_type": "code",
   "execution_count": null,
   "id": "839b0b72",
   "metadata": {},
   "outputs": [],
   "source": [
    "selected_values = np.array([0.4 + 0.4j, 0.41 + 0.4j, 0.4 + 0.41j])\n",
    "num_iter = 9\n",
    "\n",
    "outputs = np.zeros((num_iter + 1, selected_values.shape[0]), dtype=complex)\n",
    "outputs[0] = selected_values\n",
    "\n",
    "for i in range(num_iter):\n",
    "    outputs[i + 1] = f(outputs[i])\n",
    "\n",
    "fig, axes = plt.subplots(1, selected_values.shape[0], figsize=(16, 6))\n",
    "axes[1].set_xlabel('Real axis')\n",
    "axes[0].set_ylabel('Imaginary axis')\n",
    "\n",
    "for ax, data in zip(axes, outputs.T):\n",
    "    cycle = ax.scatter(data.real, data.imag, c=range(data.shape[0]), alpha=0.6)\n",
    "    ax.set_title(f'Mapping of iterations on {data[0]}')\n",
    "\n",
    "fig.colorbar(cycle, ax=axes, location='bottom', label='Iteration')"
   ]
  },
  {
   "cell_type": "code",
   "execution_count": null,
   "id": "acf7b5f6",
   "metadata": {},
   "outputs": [],
   "source": [
    "def divergence_rate(mesh, num_iter=10, radius=2):\n",
    "\n",
    "    z = mesh.copy()\n",
    "    diverge_len = np.zeros(mesh.shape, dtype=int)\n",
    "\n",
    "    for i in range(num_iter):\n",
    "        conv_mask = np.abs(z) < radius\n",
    "        diverge_len[conv_mask] += 1\n",
    "        z[conv_mask] = f(z[conv_mask])\n",
    "\n",
    "    return diverge_len"
   ]
  },
  {
   "cell_type": "code",
   "execution_count": null,
   "id": "d49f6cc9",
   "metadata": {},
   "outputs": [],
   "source": [
    "x, y = np.meshgrid(np.linspace(-2, 2, 400), np.linspace(-2, 2, 400))\n",
    "mesh = x + 1j * y\n",
    "\n",
    "output = divergence_rate(mesh)\n"
   ]
  },
  {
   "cell_type": "code",
   "execution_count": null,
   "id": "467fc828",
   "metadata": {},
   "outputs": [],
   "source": [
    "fig = plt.figure(figsize=(5, 5))\n",
    "ax = plt.axes()\n",
    "\n",
    "ax.set_title('$f(z) = z^2-1$')\n",
    "ax.set_xlabel('Real axis')\n",
    "ax.set_ylabel('Imaginary axis')\n",
    "\n",
    "im = ax.imshow(output, extent=[-2, 2, -2, 2])\n",
    "divider = make_axes_locatable(ax)\n",
    "cax = divider.append_axes('right', size='5%', pad=0.1)\n",
    "plt.colorbar(im, cax=cax, label='Number of iterations')\n",
    "\n",
    "plt.show()"
   ]
  }
 ],
 "metadata": {
  "kernelspec": {
   "display_name": "Python 3 (ipykernel)",
   "language": "python",
   "name": "python3"
  },
  "language_info": {
   "codemirror_mode": {
    "name": "ipython",
    "version": 3
   },
   "file_extension": ".py",
   "mimetype": "text/x-python",
   "name": "python",
   "nbconvert_exporter": "python",
   "pygments_lexer": "ipython3",
   "version": "3.10.9"
  }
 },
 "nbformat": 4,
 "nbformat_minor": 5
}
